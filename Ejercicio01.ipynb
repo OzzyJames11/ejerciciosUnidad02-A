{
  "nbformat": 4,
  "nbformat_minor": 0,
  "metadata": {
    "colab": {
      "provenance": []
    },
    "kernelspec": {
      "name": "python3",
      "display_name": "Python 3"
    },
    "language_info": {
      "name": "python"
    }
  },
  "cells": [
    {
      "cell_type": "code",
      "execution_count": 6,
      "metadata": {
        "colab": {
          "base_uri": "https://localhost:8080/"
        },
        "id": "O134CgXcQDhp",
        "outputId": "4172d21b-4a65-4e0a-863e-ca15011e12d9"
      },
      "outputs": [
        {
          "output_type": "execute_result",
          "data": {
            "text/plain": [
              "[0.5859375, 3.0023437500000005, 3.41875]"
            ]
          },
          "metadata": {},
          "execution_count": 6
        }
      ],
      "source": [
        "def bisection_method(f, a, b, tol):\n",
        "    if f(a) * f(b) > 0:\n",
        "        raise ValueError(\"f(a) y f(b) deben tener signos opuestos\")\n",
        "\n",
        "    while (b - a) / 2 > tol:\n",
        "        puntoMedio = (a + b) / 2\n",
        "        if f(puntoMedio) == 0:\n",
        "            return puntoMedio\n",
        "        elif f(a) * f(puntoMedio) < 0:\n",
        "            b = puntoMedio\n",
        "        else:\n",
        "            a = puntoMedio\n",
        "\n",
        "    return (a + b) / 2\n",
        "\n",
        "# Definimos la función\n",
        "def f(x):\n",
        "    return x**3 - 7*x**2 + 14*x - 6\n",
        "\n",
        "# Definimos los intervalos y la tolerancia\n",
        "intervalos = [(0, 1), (1, 3.2), (3.2, 4)]\n",
        "tolerancia = 0.01\n",
        "\n",
        "# Calculamos las raíces para cada intervalo\n",
        "raices = []\n",
        "for interval in intervalos:\n",
        "    raiz = bisection_method(f, interval[0], interval[1], tolerancia)\n",
        "    raices.append(raiz)\n",
        "\n",
        "raices\n"
      ]
    }
  ]
}