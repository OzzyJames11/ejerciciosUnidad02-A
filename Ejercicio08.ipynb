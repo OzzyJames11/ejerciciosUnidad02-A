{
  "nbformat": 4,
  "nbformat_minor": 0,
  "metadata": {
    "colab": {
      "provenance": []
    },
    "kernelspec": {
      "name": "python3",
      "display_name": "Python 3"
    },
    "language_info": {
      "name": "python"
    }
  },
  "cells": [
    {
      "cell_type": "code",
      "execution_count": 5,
      "metadata": {
        "colab": {
          "base_uri": "https://localhost:8080/"
        },
        "id": "ADes5mOKaaTd",
        "outputId": "3045b4cd-e93a-4673-8ead-81c8ef6a4ecb"
      },
      "outputs": [
        {
          "output_type": "stream",
          "name": "stdout",
          "text": [
            "Raíz aproximada: 1.32476806640625\n",
            "Número de iteraciones: 13\n"
          ]
        }
      ],
      "source": [
        "import math\n",
        "\n",
        "def f(x):\n",
        "    return x**3 - x - 1\n",
        "\n",
        "def bisection_method(f, a, b, tol):\n",
        "    if f(a) * f(b) > 0:\n",
        "        raise ValueError(\"El método de bisección no garantiza una raíz en este intervalo.\")\n",
        "\n",
        "    iterations = 0\n",
        "    while (b - a) / 2.0 > tol:\n",
        "        midpoint = (a + b) / 2.0\n",
        "        if f(midpoint) == 0:\n",
        "            return midpoint, iterations\n",
        "        elif f(a) * f(midpoint) < 0:\n",
        "            b = midpoint\n",
        "        else:\n",
        "            a = midpoint\n",
        "        iterations += 1\n",
        "\n",
        "    return (a + b) / 2.0, iterations\n",
        "\n",
        "# Definir el intervalo y la tolerancia\n",
        "a, b = 1, 2\n",
        "tolerancia = 10**-4\n",
        "\n",
        "# Calcular la raíz\n",
        "root, iterations = bisection_method(f, a, b, tolerancia)\n",
        "print(f\"Raíz aproximada: {root}\")\n",
        "print(f\"Número de iteraciones: {iterations}\")\n"
      ]
    }
  ]
}