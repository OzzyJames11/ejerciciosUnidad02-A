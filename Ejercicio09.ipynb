{
  "nbformat": 4,
  "nbformat_minor": 0,
  "metadata": {
    "colab": {
      "provenance": []
    },
    "kernelspec": {
      "name": "python3",
      "display_name": "Python 3"
    },
    "language_info": {
      "name": "python"
    }
  },
  "cells": [
    {
      "cell_type": "code",
      "execution_count": 21,
      "metadata": {
        "colab": {
          "base_uri": "https://localhost:8080/"
        },
        "id": "Juid3QMrBYb0",
        "outputId": "b9fd92a7-a34b-48f3-d0c5-c38735bf9a1b"
      },
      "outputs": [
        {
          "output_type": "stream",
          "name": "stdout",
          "text": [
            "Intervalo: [-0.5, 0.5]\n",
            "Raíz aproximada: 0.0\n",
            "Número de iteraciones: 0\n",
            "\n",
            "Intervalo: [-0.5, 2.7]\n",
            "Raíz aproximada: 2.000006103515625\n",
            "Número de iteraciones: 18\n",
            "\n",
            "Intervalo: [-0.5, 2.5]\n",
            "Raíz aproximada: -1.9073486328125e-06\n",
            "Número de iteraciones: 18\n",
            "\n"
          ]
        }
      ],
      "source": [
        "import math\n",
        "\n",
        "def f(x):\n",
        "    return math.sin(math.pi * x )\n",
        "\n",
        "def bisection_method(f, a, b, tol):\n",
        "    if f(a) * f(b) > 0:\n",
        "        raise ValueError(\"No se puede aplicar.\")\n",
        "\n",
        "    iterations = 0\n",
        "    while (b - a) / 2.0 > tol:\n",
        "        puntoMedio = (a + b) / 2.0\n",
        "        if f(puntoMedio) == 0:\n",
        "            return puntoMedio, iterations\n",
        "        elif f(a) * f(puntoMedio) < 0:\n",
        "            b = puntoMedio\n",
        "        else:\n",
        "            a = puntoMedio\n",
        "        iterations += 1\n",
        "\n",
        "    return (a + b) / 2.0, iterations\n",
        "\n",
        "# Definir los intervalos y la tolerancia\n",
        "intervalos = [(-0.5, 0.5),(-0.5, 2.7),(-0.5, 2.5)]\n",
        "tolerancia = 10**-5\n",
        "\n",
        "# Ejecutar el método de bisección para ambos intervalos\n",
        "for intervalo in intervalos:\n",
        "    a, b = intervalo\n",
        "    root, iterations = bisection_method(f, a, b, tolerancia)\n",
        "    print(f\"Intervalo: [{a}, {b}]\")\n",
        "    print(f\"Raíz aproximada: {root}\")\n",
        "    print(f\"Número de iteraciones: {iterations}\")\n",
        "    print()"
      ]
    }
  ]
}